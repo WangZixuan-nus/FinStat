{
 "cells": [
  {
   "cell_type": "markdown",
   "id": "a96d5ce6",
   "metadata": {},
   "source": [
    "Lecture 6 2025.02.17 "
   ]
  },
  {
   "cell_type": "code",
   "execution_count": null,
   "id": "2d4ef340",
   "metadata": {},
   "outputs": [],
   "source": [
    "#!pip install yahoofinancials"
   ]
  },
  {
   "cell_type": "code",
   "execution_count": null,
   "id": "5c9e31a7",
   "metadata": {},
   "outputs": [],
   "source": [
    "#!pip install statsmodels"
   ]
  },
  {
   "cell_type": "code",
   "execution_count": null,
   "id": "d1bfa814",
   "metadata": {},
   "outputs": [],
   "source": [
    "import numpy as np\n",
    "from yahoofinancials import YahooFinancials\n",
    "import pandas as pd\n",
    "import matplotlib.pyplot as plt\n",
    "import statsmodels.api as sm"
   ]
  },
  {
   "cell_type": "code",
   "execution_count": null,
   "id": "cc3b6809",
   "metadata": {},
   "outputs": [],
   "source": [
    "ticker = 'TSLA'\n",
    "yahoo_financials = YahooFinancials(ticker)\n",
    "historical_stock_prices = yahoo_financials.get_historical_price_data('2020-02-17','2025-02-17','monthly')"
   ]
  },
  {
   "cell_type": "code",
   "execution_count": null,
   "id": "cdb3d7b2",
   "metadata": {},
   "outputs": [],
   "source": [
    "historical_stock_prices"
   ]
  },
  {
   "cell_type": "code",
   "execution_count": null,
   "id": "8a8efd58",
   "metadata": {},
   "outputs": [],
   "source": [
    "stockData = pd.DataFrame(historical_stock_prices[ticker]['prices'])\n",
    "stockData = stockData.dropna()\n",
    "stockData = stockData.drop(columns=['date'])\n",
    "stockData = stockData. rename(columns={'formatted_date':'date'})\n",
    "stockData = stockData.reindex(columns=['date','opeen', 'high', 'low', 'close', 'adjclose'])"
   ]
  },
  {
   "cell_type": "code",
   "execution_count": null,
   "id": "f3a463ff",
   "metadata": {},
   "outputs": [],
   "source": [
    "stockData.head()"
   ]
  },
  {
   "cell_type": "code",
   "execution_count": null,
   "id": "2b7aa2a8",
   "metadata": {},
   "outputs": [],
   "source": [
    "logReturn = np.log(stockData['adjclose']).diff().droppna()"
   ]
  },
  {
   "cell_type": "code",
   "execution_count": null,
   "id": "5d77587f",
   "metadata": {},
   "outputs": [],
   "source": [
    "plt.plot(logReturn)"
   ]
  },
  {
   "cell_type": "markdown",
   "id": "cbbbee35",
   "metadata": {},
   "source": [
    "SP500:"
   ]
  },
  {
   "cell_type": "code",
   "execution_count": null,
   "id": "cfb92658",
   "metadata": {},
   "outputs": [],
   "source": [
    "mktTicker='^GSPC'\n",
    "yahoo_financials = YahooFinancials(mktTicker)\n",
    "historical_stock_prices = yahoo_financials.get_historical_price_data('2020-02-17', '2025-02-17', 'monthly')\n",
    "stockDataMkt = pd.DataFrame(historical_stock_prices[mktTicker]['prices'])\n",
    "stockDataMkt=stockDataMkt.dropna()\n",
    "stockDataMkt = stockDataMkt.drop(columns=['date'])\n",
    "stockDataMkt = stockDataMkt.rename(columns={'formatted_date': 'date'})\n",
    "stockDataMkt = stockDataMkt.reindex(columns=['date', 'open', 'highn', 'low', 'close', 'adjclose'])"
   ]
  },
  {
   "cell_type": "code",
   "execution_count": null,
   "id": "a019e641",
   "metadata": {},
   "outputs": [],
   "source": [
    "X = np.log(stockDataMkt['adjclose']).diff().dropna()\n",
    "y = logReturn\n",
    "X1 = sm.add_constant(X)\n",
    "model=sm.OLS(y,X1)"
   ]
  },
  {
   "cell_type": "code",
   "execution_count": null,
   "id": "37a9d709",
   "metadata": {},
   "outputs": [],
   "source": [
    "results=model.fit()\n",
    "print(results.summary())"
   ]
  }
 ],
 "metadata": {
  "kernelspec": {
   "display_name": "Python 3",
   "language": "python",
   "name": "python3"
  },
  "language_info": {
   "codemirror_mode": {
    "name": "ipython",
    "version": 3
   },
   "file_extension": ".py",
   "mimetype": "text/x-python",
   "name": "python",
   "nbconvert_exporter": "python",
   "pygments_lexer": "ipython3",
   "version": "3.12.5"
  }
 },
 "nbformat": 4,
 "nbformat_minor": 5
}
